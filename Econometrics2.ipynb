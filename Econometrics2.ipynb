{
 "cells": [
  {
   "cell_type": "markdown",
   "metadata": {},
   "source": [
    "«Что вершит судьбу человечества в этом мире? Некое незримое существо или закон, подобно длани господней, парящей над миром? По крайней мере, истинно то, что человек не властен даже над своей волей»"
   ]
  },
  {
   "cell_type": "markdown",
   "metadata": {},
   "source": [
    "# Шапка"
   ]
  },
  {
   "cell_type": "markdown",
   "metadata": {},
   "source": [
    "Подшапкой я имею в виду код, который необходим для каждой задачи: Импорт библиотек, датасетов.\n",
    "\n",
    "Этот кусок кода или \"Шапку\" нужно будет либо написать и исполнить (обязательно надо исполнить) один раз в начале файле, если вы собираетесь использовать формат файла Anaconda (.ipynb), где можно писать код блоками, или если вы хотите писать по программе на каждую задачу, то есть файлы .py, то эту шапку надо будет вставлять в начале каждого файла.\n",
    "\n",
    "Код в файле имеет две версии: с комментариями и без них. На экзамене лучше использовать тот, что без комментариев, если нас будут просить прикреплять файлы"
   ]
  },
  {
   "cell_type": "markdown",
   "metadata": {},
   "source": [
    "### Шапка с комментариями:"
   ]
  },
  {
   "cell_type": "code",
   "execution_count": 1,
   "metadata": {},
   "outputs": [],
   "source": [
    "# Эти пункты копируем без изменений,\n",
    "# так как это просто библиотеки, которые\n",
    "# будут применяться в каждой задаче\n",
    "import numpy as np\n",
    "import pandas as pd\n",
    "import statsmodels.formula.api as smf\n",
    "from scipy.stats import chi2 \n",
    "from scipy.stats import norm\n",
    "\n",
    "# Не показывать FutureWarnings\n",
    "# Не знаю, что это за такие Ворнинги\n",
    "# Но Артамонов это везде пишит\n",
    "import warnings\n",
    "warnings.simplefilter(action='ignore', category=FutureWarning)\n",
    "\n",
    "# импорт датасета\n",
    "# Этой строчкой мы импортируем сам датасет\n",
    "# В рамках тестовой контрольной везде использовался\n",
    "# один и тот же датасет, поэтому я вынес эту строчку\n",
    "# в шапку, но на самом экзамене может быть иначе\n",
    "df = pd.read_csv('TableF5-1.csv') # текст в ковычках название файла датасета\n",
    "# файл датасета должен находиться в папке с вашим Python файлом"
   ]
  },
  {
   "cell_type": "markdown",
   "metadata": {},
   "source": [
    "### Шапка без комментариев"
   ]
  },
  {
   "cell_type": "code",
   "execution_count": 2,
   "metadata": {},
   "outputs": [],
   "source": [
    "import numpy as np\n",
    "import pandas as pd\n",
    "import statsmodels.formula.api as smf\n",
    "from scipy.stats import chi2 \n",
    "from scipy.stats import norm\n",
    "\n",
    "import warnings\n",
    "warnings.simplefilter(action='ignore', category=FutureWarning)\n",
    "\n",
    "df = pd.read_csv('TableF5-1.csv')"
   ]
  },
  {
   "cell_type": "markdown",
   "metadata": {},
   "source": [
    "# Первая задача"
   ]
  },
  {
   "cell_type": "markdown",
   "metadata": {},
   "source": [
    "Превый тип задач, который может встретиться является самым простым, так как при решении таких задач не надо ни считать, не писать код. Достаточно иметь общее представление о том, что нас просят сделать, так как ответ на вопрос уже содержится в самом задание."
   ]
  },
  {
   "cell_type": "markdown",
   "metadata": {},
   "source": [
    "## Пример задачи:"
   ]
  },
  {
   "cell_type": "markdown",
   "metadata": {},
   "source": [
    "![Pictures/Задача 1.png](<Pictures/Задача 1.png>)"
   ]
  },
  {
   "cell_type": "markdown",
   "metadata": {},
   "source": [
    "## Как решать:"
   ]
  },
  {
   "cell_type": "markdown",
   "metadata": {},
   "source": [
    "В данном случае нас просят определить \"какая модель предпочтительней по критерию Акаике\". Если посмотреть чуть выше, то можно заметить строку, которая так и называется \"Akaike Inf. Crit.\", а после не требующего сложных действий поиска (напрмер, это можно спросить у чата GPT) легко находиться, что по этому критерию (Akaike) предпочтительной будет та модель, показатель которой наименьший, то есть в этом ряду нужно выбрать наименьшее число. В нашем случае это число 940.080, которое относиться к пятой моделе, поэтому в ответ мы пишем число пять."
   ]
  },
  {
   "cell_type": "markdown",
   "metadata": {},
   "source": [
    "Но на экзамене нас наверняка могут попросить определить предпочтительную моедель не только по критериб Акаике. Поэтому даю сводку как определять такие модели по другим критериям (ответ сгенерирован с помощью чата GPT, но в его точности я достаточно уверен, но если кто-то из тех, кто шарит, заметит не точность, то не поленитесь исправить):"
   ]
  },
  {
   "cell_type": "markdown",
   "metadata": {},
   "source": [
    "В дополнение к критерию Акаике (AIC), для выбора предпочтительной модели можно использовать следующие критерии и подходы:\n",
    "1. Критерий Байеса (BIC)\n",
    "BIC учитывает не только качество подгонки модели, но и ее сложность, штрафуя за количество параметров более строго, чем AIC.\n",
    "Предпочтительна модель с наименьшим значением BIC.\n",
    "Если модели сравнимы по AIC и BIC, предпочтение отдается той, которая оптимальна по обоим критериям.\n",
    "2. Псевдо-R2 (pseudoR2) и его скорректированное значение (pseudoR2-adj)\n",
    "Псевдо-R2 показывает, насколько хорошо модель объясняет данные.\n",
    "Предпочтительна модель с наибольшим значением псевдо-R2 и скорректированного псевдо-R2.\n",
    "Однако псевдо-R2 не всегда следует рассматривать как основной критерий, так как он не учитывает переобучение.\n",
    "3. Логарифм правдоподобия (Log Likelihood)\n",
    "Чем выше значение логарифма правдоподобия, тем лучше модель подгоняет данные.\n",
    "Однако этот критерий также не учитывает сложность модели, поэтому лучше сочетать его с AIC или BIC.\n",
    "4. Значимость коэффициентов\n",
    "Оцениваются p-значения коэффициентов (звездочки в таблице).\n",
    "Предпочтительна модель, где ключевые переменные статистически значимы (p < 0.05 или хотя бы p < 0.1).\n",
    "Если коэффициенты ключевых переменных незначимы, модель может быть неприменима для интерпретации."
   ]
  },
  {
   "cell_type": "markdown",
   "metadata": {},
   "source": [
    "# Вторая задача"
   ]
  },
  {
   "cell_type": "markdown",
   "metadata": {},
   "source": [
    "В этой и дальнейших задачах уже придеться писать код. Поэтому если вы выбрали путь написания отдельной программы под каждую задачу, то не забывайте вставлять так называемую \"Шапку\"."
   ]
  },
  {
   "cell_type": "markdown",
   "metadata": {},
   "source": [
    "## Пример задачи:"
   ]
  },
  {
   "cell_type": "markdown",
   "metadata": {},
   "source": [
    "![Pictures/Задача 2.png](<Pictures/Задача 2.png>)"
   ]
  },
  {
   "cell_type": "markdown",
   "metadata": {},
   "source": [
    "## Как решать:"
   ]
  },
  {
   "cell_type": "markdown",
   "metadata": {},
   "source": [
    "### Код с комментариями:"
   ]
  },
  {
   "cell_type": "code",
   "execution_count": 9,
   "metadata": {},
   "outputs": [
    {
     "name": "stdout",
     "output_type": "stream",
     "text": [
      "Optimization terminated successfully.\n",
      "         Current function value: 0.625515\n",
      "         Iterations 5\n"
     ]
    },
    {
     "data": {
      "text/plain": [
       "np.float64(0.112)"
      ]
     },
     "execution_count": 9,
     "metadata": {},
     "output_type": "execute_result"
    }
   ],
   "source": [
    "mod = smf.probit(formula = 'LFP~WA+I(WA**2)+FAMINC+I(FAMINC**2)+KL6+K618+CIT+UN', data = df) # В этой строчке всегда надо\n",
    "# всегда обращать внимание на два места: где написано \"probit\" и на текст в кавычках после \"formula = \"\n",
    "# В первом случаем мы пишим пробит, потому что по условю задачи мы оцениваем probit-регрессию\n",
    "# Если в условие будет logit-регрессия или LPM-регрессия, то писать мы будем вместо \"smf.logit\"\n",
    "# А что касается формулы, то нужно не забывать её копировать из условия задния (И такое случалось)\n",
    "res = mod.fit()\n",
    "(1-(np.sum(res.resid_response**2))/(res.nobs*np.var(mod.endog))).round(3) # Чтобы изменить то, как программа\n",
    "# округляет чилсо нужно изменить число в скабках при \".round(3)\", в данном случае число будет округляться до\n",
    "# трех знаков после запятой\n",
    "\n",
    "# Эта формула взята из файла Артомонова\n",
    "# Файл находиться на GitHub в jupyter-notebooks/List25/probit-goodness-of-fit.ipynb\n",
    "# Там много разных формул, в данном случае у нас просят Efron R2\n",
    "# Если что-то другое просят, то находим в файле нужную, копируем, вставляем.\n",
    "# Только нужно обратить внимание, что переменные в файле названы по другому, так как\n",
    "# там он тестирует несколько моделей, например, вместо \"res\" в файле это будет называться \"res_1\".\n",
    "# Название надо сменить, иначе код не запуститься.\n",
    "\n",
    "\n",
    "\n",
    "# После исполнения кода в конце будет строчка типа \"np.float64(0.112)\"\n",
    "# Число 0.112 и будет ответом"
   ]
  },
  {
   "cell_type": "markdown",
   "metadata": {},
   "source": [
    "### Код без комментариев:"
   ]
  },
  {
   "cell_type": "code",
   "execution_count": 5,
   "metadata": {},
   "outputs": [
    {
     "name": "stdout",
     "output_type": "stream",
     "text": [
      "Optimization terminated successfully.\n",
      "         Current function value: 0.625515\n",
      "         Iterations 5\n"
     ]
    },
    {
     "data": {
      "text/plain": [
       "np.float64(0.112)"
      ]
     },
     "execution_count": 5,
     "metadata": {},
     "output_type": "execute_result"
    }
   ],
   "source": [
    "mod = smf.probit(formula = 'LFP~WA+I(WA**2)+FAMINC+I(FAMINC**2)+KL6+K618+CIT+UN', data = df)\n",
    "res = mod.fit()\n",
    "(1-(np.sum(res.resid_response**2))/(res.nobs*np.var(mod.endog))).round(3)"
   ]
  },
  {
   "cell_type": "markdown",
   "metadata": {},
   "source": [
    "# Третья задача"
   ]
  },
  {
   "cell_type": "markdown",
   "metadata": {},
   "source": [
    "В этой и дальнейших задачах комментарив буду оставлять всё меньше и меньше, так как то, что уже объяснялось до этого повоторно объяснять не буду"
   ]
  },
  {
   "cell_type": "markdown",
   "metadata": {},
   "source": [
    "## Пример задачи:"
   ]
  },
  {
   "cell_type": "markdown",
   "metadata": {},
   "source": [
    "![Pictures/Задача 3.png](<Pictures/Задача 3.png>)"
   ]
  },
  {
   "cell_type": "markdown",
   "metadata": {},
   "source": [
    "## Как решать:"
   ]
  },
  {
   "cell_type": "markdown",
   "metadata": {},
   "source": [
    "### Код с комментариями:"
   ]
  },
  {
   "cell_type": "code",
   "execution_count": 2,
   "metadata": {},
   "outputs": [
    {
     "name": "stdout",
     "output_type": "stream",
     "text": [
      "Optimization terminated successfully.\n",
      "         Current function value: 0.655878\n",
      "         Iterations 5\n"
     ]
    },
    {
     "data": {
      "text/plain": [
       "0    0.72\n",
       "dtype: float64"
      ]
     },
     "execution_count": 2,
     "metadata": {},
     "output_type": "execute_result"
    }
   ],
   "source": [
    "mod = smf.logit(formula='LFP~WA+I(WA**2)+WE+CIT+UN+np.log(FAMINC)', data=df) # спецификация модели\n",
    "res = mod.fit() # подгонка модели\n",
    "\n",
    "# Создаем датафрейм с новыми данными регрессоров для прогноза\n",
    "new_data = pd.DataFrame({'WA':[32],  \n",
    "                         'WE': [15], \n",
    "                         'CIT': [1],\n",
    "                         'UN': [3.0], \n",
    "                         'FAMINC': [35000],}) # Здесь нужно вписать данные из таблички, которая\n",
    "# данна в здании. Копируем названия в нужные места и значения из того ряда, который указан в задании.\n",
    "# В данном случае в условии написано \"Постройте прогноз для первого человека (индекс 0)\", вот раз индек 0,\n",
    "# то и циферки берем из ряда 0\n",
    "\n",
    "# Прогноз для LPM с округлением до 3-х десятичных знаков\n",
    "res.predict(exog=new_data, transform=True).round(2)\n",
    "\n",
    "# После исполнения нас интересует строчка, в которой будет написано типа \"0   0.72\"\n",
    "# нам нужна вторая цифра, которая и будет ответом"
   ]
  },
  {
   "cell_type": "markdown",
   "metadata": {},
   "source": [
    "### Код без комментариев:"
   ]
  },
  {
   "cell_type": "code",
   "execution_count": 8,
   "metadata": {},
   "outputs": [
    {
     "name": "stdout",
     "output_type": "stream",
     "text": [
      "Optimization terminated successfully.\n",
      "         Current function value: 0.655878\n",
      "         Iterations 5\n"
     ]
    },
    {
     "data": {
      "text/plain": [
       "0    0.72\n",
       "dtype: float64"
      ]
     },
     "execution_count": 8,
     "metadata": {},
     "output_type": "execute_result"
    }
   ],
   "source": [
    "mod = smf.logit(formula='LFP~WA+I(WA**2)+WE+CIT+UN+np.log(FAMINC)', data=df)\n",
    "res = mod.fit() \n",
    "\n",
    "new_data = pd.DataFrame({'WA':[32],  \n",
    "                         'WE': [15], \n",
    "                         'CIT': [1],\n",
    "                         'UN': [3.0], \n",
    "                         'FAMINC': [35000],}) \n",
    "res.predict(exog=new_data, transform=True).round(2)"
   ]
  },
  {
   "cell_type": "markdown",
   "metadata": {},
   "source": [
    "# Четвертая задача"
   ]
  },
  {
   "cell_type": "markdown",
   "metadata": {},
   "source": [
    "## Пример задачи:"
   ]
  },
  {
   "cell_type": "markdown",
   "metadata": {},
   "source": [
    "![Pictures/Задача 4.png](<Pictures/Задача 4.png>)"
   ]
  },
  {
   "cell_type": "markdown",
   "metadata": {},
   "source": [
    "## Как решать:"
   ]
  },
  {
   "cell_type": "markdown",
   "metadata": {},
   "source": [
    "В этой задаче код может выглядеть чуть странно, так как это исправленный код чата GPT, но своё дело он делает."
   ]
  },
  {
   "cell_type": "markdown",
   "metadata": {},
   "source": [
    "### Код с комментариями:"
   ]
  },
  {
   "cell_type": "code",
   "execution_count": 3,
   "metadata": {},
   "outputs": [
    {
     "name": "stdout",
     "output_type": "stream",
     "text": [
      "Optimization terminated successfully.\n",
      "         Current function value: 0.613860\n",
      "         Iterations 5\n",
      "Тестовая статистика: 5.06\n",
      "Критическое значение: 11.34\n",
      "Гипотеза H0 не отвергается: CIT, UN, log(FAMINC) совместно незначимы.\n"
     ]
    }
   ],
   "source": [
    "#  Лучше тут ничего особо не менять, а то прилюбом удобном случае код уходит в ощибку :)\n",
    "mod = smf.logit(formula='LFP~WA+I(WA**2)+WE+KL6+K618+CIT+UN+np.log(FAMINC)', data=df) # спецификация модели\n",
    "res = mod.fit() # подгонка модели\n",
    "res.nobs # число наблюдений, на которых была подогнана модель\n",
    "\n",
    "restricted_vars = ['CIT', 'UN', 'np.log(FAMINC)'] # Здесь мы пишем те, наименования по которым нам нужно\n",
    "# тестировать совместную значимость по условию задачи\n",
    "r_matrix = np.zeros((len(restricted_vars), len(res.params)))\n",
    "for i, var in enumerate(restricted_vars):\n",
    "    r_matrix[i, res.params.index.get_loc(var)] = 1\n",
    "\n",
    "wald_test = res.wald_test(r_matrix)\n",
    "wald_stat = wald_test.statistic[0][0]\n",
    "p_value = wald_test.pvalue\n",
    "df = len(restricted_vars)\n",
    "\n",
    "# Критическое значение для уровня значимости 1%\n",
    "critical_value = chi2.ppf(1 - 0.01, df) # Если уровень значимости в условии другой,\n",
    "# то вместо числа 0.01, которое соответсвует уровню значимости в 1%, нужно будет написать\n",
    "# своё число: 5% - 0.05, 10% - 0.1\n",
    "\n",
    "# Вывод\n",
    "print(f\"Тестовая статистика: {wald_stat:.2f}\") # Если в задаче требуется не два, три\n",
    "print(f\"Критическое значение: {critical_value:.2f}\") # знака после запятой, то вместо\n",
    "# \".2f\" нужно написать .3f в обеих строчках\n",
    "\n",
    "# Проверка гипотезы\n",
    "if wald_stat > critical_value:\n",
    "    print(\"Гипотеза H0 отвергается: CIT, UN, log(FAMINC) совместно значимы.\")\n",
    "else:\n",
    "    print(\"Гипотеза H0 не отвергается: CIT, UN, log(FAMINC) совместно незначимы.\")\n",
    "    \n",
    "# Код иногда уходит в ошибку при повторном исполнении. В этом случаем нужно перезагрузить ядро\n",
    "# (Для этого обычно сверху есть стрелочка завернутая в кружок(ну как смог описал) с надписью\n",
    "# рядом \"Restart\") после чего нужно снова исполнить код шапки, а затем исполнять этот код"
   ]
  },
  {
   "cell_type": "markdown",
   "metadata": {},
   "source": [
    "### Код без комментариев:"
   ]
  },
  {
   "cell_type": "code",
   "execution_count": 2,
   "metadata": {},
   "outputs": [
    {
     "name": "stdout",
     "output_type": "stream",
     "text": [
      "Optimization terminated successfully.\n",
      "         Current function value: 0.613860\n",
      "         Iterations 5\n",
      "Тестовая статистика: 5.06\n",
      "Критическое значение: 11.34\n",
      "Гипотеза H0 не отвергается: CIT, UN, log(FAMINC) совместно незначимы.\n"
     ]
    }
   ],
   "source": [
    "mod = smf.logit(formula='LFP~WA+I(WA**2)+WE+KL6+K618+CIT+UN+np.log(FAMINC)', data=df)\n",
    "res = mod.fit()\n",
    "res.nobs\n",
    "\n",
    "restricted_vars = ['CIT', 'UN', 'np.log(FAMINC)']\n",
    "r_matrix = np.zeros((len(restricted_vars), len(res.params)))\n",
    "for i, var in enumerate(restricted_vars):\n",
    "    r_matrix[i, res.params.index.get_loc(var)] = 1\n",
    "\n",
    "wald_test = res.wald_test(r_matrix)\n",
    "wald_stat = wald_test.statistic[0][0]\n",
    "p_value = wald_test.pvalue\n",
    "df = len(restricted_vars)\n",
    "\n",
    "critical_value = chi2.ppf(1 - 0.01, df)\n",
    "\n",
    "print(f\"Тестовая статистика: {wald_stat:.2f}\")\n",
    "print(f\"Критическое значение: {critical_value:.2f}\")\n",
    "\n",
    "if wald_stat > critical_value:\n",
    "    print(\"Гипотеза H0 отвергается: CIT, UN, log(FAMINC) совместно значимы.\")\n",
    "else:\n",
    "    print(\"Гипотеза H0 не отвергается: CIT, UN, log(FAMINC) совместно незначимы.\")"
   ]
  },
  {
   "cell_type": "markdown",
   "metadata": {},
   "source": [
    "# Пятая задача:"
   ]
  },
  {
   "cell_type": "markdown",
   "metadata": {},
   "source": [
    "## Пример задачи:"
   ]
  },
  {
   "cell_type": "markdown",
   "metadata": {},
   "source": [
    "![Pictures/Задача 5.png](<Pictures/Задача 5.png>)"
   ]
  },
  {
   "cell_type": "markdown",
   "metadata": {},
   "source": [
    "## Как решать:"
   ]
  },
  {
   "cell_type": "markdown",
   "metadata": {},
   "source": [
    "Эта задача почти точно такая же как и вторая, только здесь нужно применить другую формулу. Эти формулы находятся всё так же в файле probit-goodness-of-fit.ipynb\n",
    "Только надо быть чуть внимательнее, нарпимер, в случае этой задачи нас просят найти R2-pseudo, но если зайти файл такого заглавия не будет. Конкретно эта формула называется McDadden's R2, и чтобы понять, что нам нужна именно она достаточно посмотреть как Артомонов этот McDadden's R2 - в самой формуле уже написано R2-pseudo, поэтому именно ей мы и воспользуемся."
   ]
  },
  {
   "cell_type": "markdown",
   "metadata": {},
   "source": [
    "### Код с комментариями:"
   ]
  },
  {
   "cell_type": "code",
   "execution_count": 10,
   "metadata": {},
   "outputs": [
    {
     "name": "stdout",
     "output_type": "stream",
     "text": [
      "Optimization terminated successfully.\n",
      "         Current function value: 0.659103\n",
      "         Iterations 5\n"
     ]
    },
    {
     "data": {
      "text/plain": [
       "np.float64(0.036)"
      ]
     },
     "execution_count": 10,
     "metadata": {},
     "output_type": "execute_result"
    }
   ],
   "source": [
    "mod = smf.probit(formula = 'LFP~WA+I(WA**2)+WE+CIT+UN', data = df) # Напоминаю, что нельзя забывать\n",
    "# копировать формулу из задания. В этом задании у меня ошибка именно из-за этого\n",
    "res = mod.fit()\n",
    "\n",
    "res.prsquared.round(3)\n",
    "# В ответ мы пишем число внутри np.float64, например, \"np.float64(0.036)\""
   ]
  },
  {
   "cell_type": "markdown",
   "metadata": {},
   "source": [
    "### Код без комментариев:"
   ]
  },
  {
   "cell_type": "code",
   "execution_count": 11,
   "metadata": {},
   "outputs": [
    {
     "name": "stdout",
     "output_type": "stream",
     "text": [
      "Optimization terminated successfully.\n",
      "         Current function value: 0.659103\n",
      "         Iterations 5\n"
     ]
    },
    {
     "data": {
      "text/plain": [
       "np.float64(0.036)"
      ]
     },
     "execution_count": 11,
     "metadata": {},
     "output_type": "execute_result"
    }
   ],
   "source": [
    "mod = smf.probit(formula = 'LFP~WA+I(WA**2)+WE+CIT+UN', data = df)\n",
    "res = mod.fit()\n",
    "res.prsquared.round(3)"
   ]
  },
  {
   "cell_type": "markdown",
   "metadata": {},
   "source": [
    "# Шестая задача"
   ]
  },
  {
   "cell_type": "markdown",
   "metadata": {},
   "source": [
    " ## Пример задачи:\n"
   ]
  },
  {
   "cell_type": "markdown",
   "metadata": {},
   "source": [
    "![Pictures/Задача 6.png](<Pictures/Задача 6.png>)"
   ]
  },
  {
   "cell_type": "markdown",
   "metadata": {},
   "source": [
    "## Как решать:"
   ]
  },
  {
   "cell_type": "markdown",
   "metadata": {},
   "source": [
    "В этом задании произошло какое-то колдунство, если честно. Потому что по заданию просят оценить probit-регрессию, а я запутавшись оценевую logit, но при этом получаю правильный ответ, а если выполнять это заданее правильно, то ответ получается другой. Короче, если кто-то разбирается, то дайте пояснение."
   ]
  },
  {
   "cell_type": "markdown",
   "metadata": {},
   "source": [
    "### Код с комментариями:"
   ]
  },
  {
   "cell_type": "code",
   "execution_count": 2,
   "metadata": {},
   "outputs": [
    {
     "name": "stdout",
     "output_type": "stream",
     "text": [
      "Optimization terminated successfully.\n",
      "         Current function value: 0.666964\n",
      "         Iterations 4\n"
     ]
    },
    {
     "data": {
      "text/plain": [
       "Intercept        -5.24\n",
       "WA                0.11\n",
       "I(WA ** 2)       -0.00\n",
       "CIT              -0.10\n",
       "UN               -0.01\n",
       "np.log(FAMINC)    0.36\n",
       "dtype: float64"
      ]
     },
     "execution_count": 2,
     "metadata": {},
     "output_type": "execute_result"
    }
   ],
   "source": [
    "mod = smf.logit(formula='LFP~WA+I(WA**2)+CIT+UN+np.log(FAMINC)', data=df) # спецификация модели\n",
    "res = mod.fit() # подгонка модели\n",
    "res.params.round(2)\n",
    "# Смотрим коэфициент при нужном нам по условию регрессоре.\n",
    "# В данном случаем это UN. Это и будет ответ"
   ]
  },
  {
   "cell_type": "markdown",
   "metadata": {},
   "source": [
    "### Код без комментариев:"
   ]
  },
  {
   "cell_type": "code",
   "execution_count": 14,
   "metadata": {},
   "outputs": [
    {
     "name": "stdout",
     "output_type": "stream",
     "text": [
      "Optimization terminated successfully.\n",
      "         Current function value: 0.666843\n",
      "         Iterations 5\n"
     ]
    },
    {
     "data": {
      "text/plain": [
       "Intercept        -8.49\n",
       "WA                0.17\n",
       "I(WA ** 2)       -0.00\n",
       "CIT              -0.17\n",
       "UN               -0.02\n",
       "np.log(FAMINC)    0.59\n",
       "dtype: float64"
      ]
     },
     "execution_count": 14,
     "metadata": {},
     "output_type": "execute_result"
    }
   ],
   "source": [
    "mod = smf.logit(formula='LFP~WA+I(WA**2)+CIT+UN+np.log(FAMINC)', data=df) \n",
    "res = mod.fit() \n",
    "res.params.round(2)"
   ]
  },
  {
   "cell_type": "markdown",
   "metadata": {},
   "source": [
    "# Седьмая задача"
   ]
  },
  {
   "cell_type": "markdown",
   "metadata": {},
   "source": [
    "## Пример задачи:"
   ]
  },
  {
   "cell_type": "markdown",
   "metadata": {},
   "source": [
    "![Pictures/Задача 7.png](<Pictures/Задача 7.png>)"
   ]
  },
  {
   "cell_type": "markdown",
   "metadata": {},
   "source": [
    "## Как решать:"
   ]
  },
  {
   "cell_type": "markdown",
   "metadata": {},
   "source": [
    "### Код с комментариями:"
   ]
  },
  {
   "cell_type": "code",
   "execution_count": 4,
   "metadata": {},
   "outputs": [
    {
     "name": "stdout",
     "output_type": "stream",
     "text": [
      "Optimization terminated successfully.\n",
      "         Current function value: 0.683347\n",
      "         Iterations 4\n"
     ]
    },
    {
     "data": {
      "text/html": [
       "<table class=\"simpletable\">\n",
       "<caption>Logit Regression Results</caption>\n",
       "<tr>\n",
       "  <th>Dep. Variable:</th>          <td>LFP</td>       <th>  No. Observations:  </th>  <td>   753</td>  \n",
       "</tr>\n",
       "<tr>\n",
       "  <th>Model:</th>                 <td>Logit</td>      <th>  Df Residuals:      </th>  <td>   749</td>  \n",
       "</tr>\n",
       "<tr>\n",
       "  <th>Method:</th>                 <td>MLE</td>       <th>  Df Model:          </th>  <td>     3</td>  \n",
       "</tr>\n",
       "<tr>\n",
       "  <th>Date:</th>            <td>Sun, 19 Jan 2025</td> <th>  Pseudo R-squ.:     </th> <td>0.0006074</td>\n",
       "</tr>\n",
       "<tr>\n",
       "  <th>Time:</th>                <td>20:00:50</td>     <th>  Log-Likelihood:    </th> <td> -514.56</td> \n",
       "</tr>\n",
       "<tr>\n",
       "  <th>converged:</th>             <td>True</td>       <th>  LL-Null:           </th> <td> -514.87</td> \n",
       "</tr>\n",
       "<tr>\n",
       "  <th>Covariance Type:</th>     <td>nonrobust</td>    <th>  LLR p-value:       </th>  <td>0.8906</td>  \n",
       "</tr>\n",
       "</table>\n",
       "<table class=\"simpletable\">\n",
       "<tr>\n",
       "      <td></td>         <th>coef</th>     <th>std err</th>      <th>z</th>      <th>P>|z|</th>  <th>[0.025</th>    <th>0.975]</th>  \n",
       "</tr>\n",
       "<tr>\n",
       "  <th>Intercept</th> <td>    0.4420</td> <td>    0.238</td> <td>    1.855</td> <td> 0.064</td> <td>   -0.025</td> <td>    0.909</td>\n",
       "</tr>\n",
       "<tr>\n",
       "  <th>K618</th>      <td>   -0.0031</td> <td>    0.056</td> <td>   -0.056</td> <td> 0.955</td> <td>   -0.113</td> <td>    0.106</td>\n",
       "</tr>\n",
       "<tr>\n",
       "  <th>CIT</th>       <td>   -0.0043</td> <td>    0.156</td> <td>   -0.028</td> <td> 0.978</td> <td>   -0.311</td> <td>    0.302</td>\n",
       "</tr>\n",
       "<tr>\n",
       "  <th>UN</th>        <td>   -0.0185</td> <td>    0.024</td> <td>   -0.769</td> <td> 0.442</td> <td>   -0.066</td> <td>    0.029</td>\n",
       "</tr>\n",
       "</table>"
      ],
      "text/latex": [
       "\\begin{center}\n",
       "\\begin{tabular}{lclc}\n",
       "\\toprule\n",
       "\\textbf{Dep. Variable:}   &       LFP        & \\textbf{  No. Observations:  } &      753    \\\\\n",
       "\\textbf{Model:}           &      Logit       & \\textbf{  Df Residuals:      } &      749    \\\\\n",
       "\\textbf{Method:}          &       MLE        & \\textbf{  Df Model:          } &        3    \\\\\n",
       "\\textbf{Date:}            & Sun, 19 Jan 2025 & \\textbf{  Pseudo R-squ.:     } & 0.0006074   \\\\\n",
       "\\textbf{Time:}            &     20:00:50     & \\textbf{  Log-Likelihood:    } &   -514.56   \\\\\n",
       "\\textbf{converged:}       &       True       & \\textbf{  LL-Null:           } &   -514.87   \\\\\n",
       "\\textbf{Covariance Type:} &    nonrobust     & \\textbf{  LLR p-value:       } &   0.8906    \\\\\n",
       "\\bottomrule\n",
       "\\end{tabular}\n",
       "\\begin{tabular}{lcccccc}\n",
       "                   & \\textbf{coef} & \\textbf{std err} & \\textbf{z} & \\textbf{P$> |$z$|$} & \\textbf{[0.025} & \\textbf{0.975]}  \\\\\n",
       "\\midrule\n",
       "\\textbf{Intercept} &       0.4420  &        0.238     &     1.855  &         0.064        &       -0.025    &        0.909     \\\\\n",
       "\\textbf{K618}      &      -0.0031  &        0.056     &    -0.056  &         0.955        &       -0.113    &        0.106     \\\\\n",
       "\\textbf{CIT}       &      -0.0043  &        0.156     &    -0.028  &         0.978        &       -0.311    &        0.302     \\\\\n",
       "\\textbf{UN}        &      -0.0185  &        0.024     &    -0.769  &         0.442        &       -0.066    &        0.029     \\\\\n",
       "\\bottomrule\n",
       "\\end{tabular}\n",
       "%\\caption{Logit Regression Results}\n",
       "\\end{center}"
      ],
      "text/plain": [
       "<class 'statsmodels.iolib.summary.Summary'>\n",
       "\"\"\"\n",
       "                           Logit Regression Results                           \n",
       "==============================================================================\n",
       "Dep. Variable:                    LFP   No. Observations:                  753\n",
       "Model:                          Logit   Df Residuals:                      749\n",
       "Method:                           MLE   Df Model:                            3\n",
       "Date:                Sun, 19 Jan 2025   Pseudo R-squ.:               0.0006074\n",
       "Time:                        20:00:50   Log-Likelihood:                -514.56\n",
       "converged:                       True   LL-Null:                       -514.87\n",
       "Covariance Type:            nonrobust   LLR p-value:                    0.8906\n",
       "==============================================================================\n",
       "                 coef    std err          z      P>|z|      [0.025      0.975]\n",
       "------------------------------------------------------------------------------\n",
       "Intercept      0.4420      0.238      1.855      0.064      -0.025       0.909\n",
       "K618          -0.0031      0.056     -0.056      0.955      -0.113       0.106\n",
       "CIT           -0.0043      0.156     -0.028      0.978      -0.311       0.302\n",
       "UN            -0.0185      0.024     -0.769      0.442      -0.066       0.029\n",
       "==============================================================================\n",
       "\"\"\""
      ]
     },
     "execution_count": 4,
     "metadata": {},
     "output_type": "execute_result"
    }
   ],
   "source": [
    "mod = smf.logit(formula='LFP~K618+CIT+UN', data=df) # спецификация модели\n",
    "res = mod.fit() # подгонка модели\n",
    "res.summary() # отчет (Вообще строчка не обязательная, но в файле Артомонова так)"
   ]
  },
  {
   "cell_type": "code",
   "execution_count": 5,
   "metadata": {},
   "outputs": [
    {
     "data": {
      "text/plain": [
       "np.float64(0.63)"
      ]
     },
     "execution_count": 5,
     "metadata": {},
     "output_type": "execute_result"
    }
   ],
   "source": [
    "# Тестовая статистика LR-теста\n",
    "res.llr.round(2)\n",
    "# Пишем этот ответ в поле \"Тестовая статистика\""
   ]
  },
  {
   "cell_type": "code",
   "execution_count": 6,
   "metadata": {},
   "outputs": [
    {
     "data": {
      "text/plain": [
       "np.float64(6.25)"
      ]
     },
     "execution_count": 6,
     "metadata": {},
     "output_type": "execute_result"
    }
   ],
   "source": [
    "\n",
    "sign_level = 0.1 # уровень значимости\n",
    "chi2.ppf(q=1-sign_level, df=res.df_model).round(2)\n",
    "# Пишем этот ответ в поле \"Критическое значение\"\n",
    "\n",
    "# Затем сравниваем эти два значения. Если Тестовая статистика больше, чем\n",
    "# Критическое значение, то регрессия значима, если меньше, то не значима"
   ]
  },
  {
   "cell_type": "markdown",
   "metadata": {},
   "source": [
    "### Код без комментариев:"
   ]
  },
  {
   "cell_type": "code",
   "execution_count": 22,
   "metadata": {},
   "outputs": [
    {
     "name": "stdout",
     "output_type": "stream",
     "text": [
      "Optimization terminated successfully.\n",
      "         Current function value: 0.683347\n",
      "         Iterations 4\n"
     ]
    },
    {
     "data": {
      "text/html": [
       "<table class=\"simpletable\">\n",
       "<caption>Logit Regression Results</caption>\n",
       "<tr>\n",
       "  <th>Dep. Variable:</th>          <td>LFP</td>       <th>  No. Observations:  </th>  <td>   753</td>  \n",
       "</tr>\n",
       "<tr>\n",
       "  <th>Model:</th>                 <td>Logit</td>      <th>  Df Residuals:      </th>  <td>   749</td>  \n",
       "</tr>\n",
       "<tr>\n",
       "  <th>Method:</th>                 <td>MLE</td>       <th>  Df Model:          </th>  <td>     3</td>  \n",
       "</tr>\n",
       "<tr>\n",
       "  <th>Date:</th>            <td>Sun, 19 Jan 2025</td> <th>  Pseudo R-squ.:     </th> <td>0.0006074</td>\n",
       "</tr>\n",
       "<tr>\n",
       "  <th>Time:</th>                <td>16:56:01</td>     <th>  Log-Likelihood:    </th> <td> -514.56</td> \n",
       "</tr>\n",
       "<tr>\n",
       "  <th>converged:</th>             <td>True</td>       <th>  LL-Null:           </th> <td> -514.87</td> \n",
       "</tr>\n",
       "<tr>\n",
       "  <th>Covariance Type:</th>     <td>nonrobust</td>    <th>  LLR p-value:       </th>  <td>0.8906</td>  \n",
       "</tr>\n",
       "</table>\n",
       "<table class=\"simpletable\">\n",
       "<tr>\n",
       "      <td></td>         <th>coef</th>     <th>std err</th>      <th>z</th>      <th>P>|z|</th>  <th>[0.025</th>    <th>0.975]</th>  \n",
       "</tr>\n",
       "<tr>\n",
       "  <th>Intercept</th> <td>    0.4420</td> <td>    0.238</td> <td>    1.855</td> <td> 0.064</td> <td>   -0.025</td> <td>    0.909</td>\n",
       "</tr>\n",
       "<tr>\n",
       "  <th>K618</th>      <td>   -0.0031</td> <td>    0.056</td> <td>   -0.056</td> <td> 0.955</td> <td>   -0.113</td> <td>    0.106</td>\n",
       "</tr>\n",
       "<tr>\n",
       "  <th>CIT</th>       <td>   -0.0043</td> <td>    0.156</td> <td>   -0.028</td> <td> 0.978</td> <td>   -0.311</td> <td>    0.302</td>\n",
       "</tr>\n",
       "<tr>\n",
       "  <th>UN</th>        <td>   -0.0185</td> <td>    0.024</td> <td>   -0.769</td> <td> 0.442</td> <td>   -0.066</td> <td>    0.029</td>\n",
       "</tr>\n",
       "</table>"
      ],
      "text/latex": [
       "\\begin{center}\n",
       "\\begin{tabular}{lclc}\n",
       "\\toprule\n",
       "\\textbf{Dep. Variable:}   &       LFP        & \\textbf{  No. Observations:  } &      753    \\\\\n",
       "\\textbf{Model:}           &      Logit       & \\textbf{  Df Residuals:      } &      749    \\\\\n",
       "\\textbf{Method:}          &       MLE        & \\textbf{  Df Model:          } &        3    \\\\\n",
       "\\textbf{Date:}            & Sun, 19 Jan 2025 & \\textbf{  Pseudo R-squ.:     } & 0.0006074   \\\\\n",
       "\\textbf{Time:}            &     16:56:01     & \\textbf{  Log-Likelihood:    } &   -514.56   \\\\\n",
       "\\textbf{converged:}       &       True       & \\textbf{  LL-Null:           } &   -514.87   \\\\\n",
       "\\textbf{Covariance Type:} &    nonrobust     & \\textbf{  LLR p-value:       } &   0.8906    \\\\\n",
       "\\bottomrule\n",
       "\\end{tabular}\n",
       "\\begin{tabular}{lcccccc}\n",
       "                   & \\textbf{coef} & \\textbf{std err} & \\textbf{z} & \\textbf{P$> |$z$|$} & \\textbf{[0.025} & \\textbf{0.975]}  \\\\\n",
       "\\midrule\n",
       "\\textbf{Intercept} &       0.4420  &        0.238     &     1.855  &         0.064        &       -0.025    &        0.909     \\\\\n",
       "\\textbf{K618}      &      -0.0031  &        0.056     &    -0.056  &         0.955        &       -0.113    &        0.106     \\\\\n",
       "\\textbf{CIT}       &      -0.0043  &        0.156     &    -0.028  &         0.978        &       -0.311    &        0.302     \\\\\n",
       "\\textbf{UN}        &      -0.0185  &        0.024     &    -0.769  &         0.442        &       -0.066    &        0.029     \\\\\n",
       "\\bottomrule\n",
       "\\end{tabular}\n",
       "%\\caption{Logit Regression Results}\n",
       "\\end{center}"
      ],
      "text/plain": [
       "<class 'statsmodels.iolib.summary.Summary'>\n",
       "\"\"\"\n",
       "                           Logit Regression Results                           \n",
       "==============================================================================\n",
       "Dep. Variable:                    LFP   No. Observations:                  753\n",
       "Model:                          Logit   Df Residuals:                      749\n",
       "Method:                           MLE   Df Model:                            3\n",
       "Date:                Sun, 19 Jan 2025   Pseudo R-squ.:               0.0006074\n",
       "Time:                        16:56:01   Log-Likelihood:                -514.56\n",
       "converged:                       True   LL-Null:                       -514.87\n",
       "Covariance Type:            nonrobust   LLR p-value:                    0.8906\n",
       "==============================================================================\n",
       "                 coef    std err          z      P>|z|      [0.025      0.975]\n",
       "------------------------------------------------------------------------------\n",
       "Intercept      0.4420      0.238      1.855      0.064      -0.025       0.909\n",
       "K618          -0.0031      0.056     -0.056      0.955      -0.113       0.106\n",
       "CIT           -0.0043      0.156     -0.028      0.978      -0.311       0.302\n",
       "UN            -0.0185      0.024     -0.769      0.442      -0.066       0.029\n",
       "==============================================================================\n",
       "\"\"\""
      ]
     },
     "execution_count": 22,
     "metadata": {},
     "output_type": "execute_result"
    }
   ],
   "source": [
    "mod = smf.logit(formula='LFP~K618+CIT+UN', data=df)\n",
    "res = mod.fit()\n",
    "res.summary()"
   ]
  },
  {
   "cell_type": "code",
   "execution_count": 23,
   "metadata": {},
   "outputs": [
    {
     "data": {
      "text/plain": [
       "np.float64(0.63)"
      ]
     },
     "execution_count": 23,
     "metadata": {},
     "output_type": "execute_result"
    }
   ],
   "source": [
    "res.llr.round(2)"
   ]
  },
  {
   "cell_type": "code",
   "execution_count": 24,
   "metadata": {},
   "outputs": [
    {
     "data": {
      "text/plain": [
       "np.float64(6.25)"
      ]
     },
     "execution_count": 24,
     "metadata": {},
     "output_type": "execute_result"
    }
   ],
   "source": [
    "sign_level = 0.1\n",
    "chi2.ppf(q=1-sign_level, df=res.df_model).round(2)"
   ]
  },
  {
   "cell_type": "markdown",
   "metadata": {},
   "source": [
    "# Восьмая задача"
   ]
  },
  {
   "cell_type": "markdown",
   "metadata": {},
   "source": [
    "## Пример задачи:"
   ]
  },
  {
   "cell_type": "markdown",
   "metadata": {},
   "source": [
    "![Pictures/Задача 8.png](<Pictures/Задача 8.png>)"
   ]
  },
  {
   "cell_type": "markdown",
   "metadata": {},
   "source": [
    "## Как решать:"
   ]
  },
  {
   "cell_type": "markdown",
   "metadata": {},
   "source": [
    "### Код с комментариями:"
   ]
  },
  {
   "cell_type": "code",
   "execution_count": 8,
   "metadata": {},
   "outputs": [
    {
     "name": "stdout",
     "output_type": "stream",
     "text": [
      "Optimization terminated successfully.\n",
      "         Current function value: 0.631705\n",
      "         Iterations 5\n"
     ]
    },
    {
     "data": {
      "text/html": [
       "<table class=\"simpletable\">\n",
       "<caption>Logit Regression Results</caption>\n",
       "<tr>\n",
       "  <th>Dep. Variable:</th>          <td>LFP</td>       <th>  No. Observations:  </th>  <td>   753</td>  \n",
       "</tr>\n",
       "<tr>\n",
       "  <th>Model:</th>                 <td>Logit</td>      <th>  Df Residuals:      </th>  <td>   746</td>  \n",
       "</tr>\n",
       "<tr>\n",
       "  <th>Method:</th>                 <td>MLE</td>       <th>  Df Model:          </th>  <td>     6</td>  \n",
       "</tr>\n",
       "<tr>\n",
       "  <th>Date:</th>            <td>Sun, 19 Jan 2025</td> <th>  Pseudo R-squ.:     </th>  <td>0.07613</td> \n",
       "</tr>\n",
       "<tr>\n",
       "  <th>Time:</th>                <td>20:02:22</td>     <th>  Log-Likelihood:    </th> <td> -475.67</td> \n",
       "</tr>\n",
       "<tr>\n",
       "  <th>converged:</th>             <td>True</td>       <th>  LL-Null:           </th> <td> -514.87</td> \n",
       "</tr>\n",
       "<tr>\n",
       "  <th>Covariance Type:</th>     <td>nonrobust</td>    <th>  LLR p-value:       </th> <td>7.648e-15</td>\n",
       "</tr>\n",
       "</table>\n",
       "<table class=\"simpletable\">\n",
       "<tr>\n",
       "         <td></td>           <th>coef</th>     <th>std err</th>      <th>z</th>      <th>P>|z|</th>  <th>[0.025</th>    <th>0.975]</th>  \n",
       "</tr>\n",
       "<tr>\n",
       "  <th>Intercept</th>      <td>   -4.3882</td> <td>    1.572</td> <td>   -2.792</td> <td> 0.005</td> <td>   -7.469</td> <td>   -1.308</td>\n",
       "</tr>\n",
       "<tr>\n",
       "  <th>WE</th>             <td>    0.2028</td> <td>    0.040</td> <td>    5.122</td> <td> 0.000</td> <td>    0.125</td> <td>    0.280</td>\n",
       "</tr>\n",
       "<tr>\n",
       "  <th>KL6</th>            <td>   -1.0154</td> <td>    0.165</td> <td>   -6.169</td> <td> 0.000</td> <td>   -1.338</td> <td>   -0.693</td>\n",
       "</tr>\n",
       "<tr>\n",
       "  <th>K618</th>           <td>    0.0509</td> <td>    0.059</td> <td>    0.856</td> <td> 0.392</td> <td>   -0.066</td> <td>    0.167</td>\n",
       "</tr>\n",
       "<tr>\n",
       "  <th>CIT</th>            <td>   -0.2753</td> <td>    0.173</td> <td>   -1.595</td> <td> 0.111</td> <td>   -0.614</td> <td>    0.063</td>\n",
       "</tr>\n",
       "<tr>\n",
       "  <th>UN</th>             <td>   -0.0287</td> <td>    0.025</td> <td>   -1.129</td> <td> 0.259</td> <td>   -0.078</td> <td>    0.021</td>\n",
       "</tr>\n",
       "<tr>\n",
       "  <th>np.log(FAMINC)</th> <td>    0.2808</td> <td>    0.168</td> <td>    1.668</td> <td> 0.095</td> <td>   -0.049</td> <td>    0.611</td>\n",
       "</tr>\n",
       "</table>"
      ],
      "text/latex": [
       "\\begin{center}\n",
       "\\begin{tabular}{lclc}\n",
       "\\toprule\n",
       "\\textbf{Dep. Variable:}   &       LFP        & \\textbf{  No. Observations:  } &      753    \\\\\n",
       "\\textbf{Model:}           &      Logit       & \\textbf{  Df Residuals:      } &      746    \\\\\n",
       "\\textbf{Method:}          &       MLE        & \\textbf{  Df Model:          } &        6    \\\\\n",
       "\\textbf{Date:}            & Sun, 19 Jan 2025 & \\textbf{  Pseudo R-squ.:     } &  0.07613    \\\\\n",
       "\\textbf{Time:}            &     20:02:22     & \\textbf{  Log-Likelihood:    } &   -475.67   \\\\\n",
       "\\textbf{converged:}       &       True       & \\textbf{  LL-Null:           } &   -514.87   \\\\\n",
       "\\textbf{Covariance Type:} &    nonrobust     & \\textbf{  LLR p-value:       } & 7.648e-15   \\\\\n",
       "\\bottomrule\n",
       "\\end{tabular}\n",
       "\\begin{tabular}{lcccccc}\n",
       "                        & \\textbf{coef} & \\textbf{std err} & \\textbf{z} & \\textbf{P$> |$z$|$} & \\textbf{[0.025} & \\textbf{0.975]}  \\\\\n",
       "\\midrule\n",
       "\\textbf{Intercept}      &      -4.3882  &        1.572     &    -2.792  &         0.005        &       -7.469    &       -1.308     \\\\\n",
       "\\textbf{WE}             &       0.2028  &        0.040     &     5.122  &         0.000        &        0.125    &        0.280     \\\\\n",
       "\\textbf{KL6}            &      -1.0154  &        0.165     &    -6.169  &         0.000        &       -1.338    &       -0.693     \\\\\n",
       "\\textbf{K618}           &       0.0509  &        0.059     &     0.856  &         0.392        &       -0.066    &        0.167     \\\\\n",
       "\\textbf{CIT}            &      -0.2753  &        0.173     &    -1.595  &         0.111        &       -0.614    &        0.063     \\\\\n",
       "\\textbf{UN}             &      -0.0287  &        0.025     &    -1.129  &         0.259        &       -0.078    &        0.021     \\\\\n",
       "\\textbf{np.log(FAMINC)} &       0.2808  &        0.168     &     1.668  &         0.095        &       -0.049    &        0.611     \\\\\n",
       "\\bottomrule\n",
       "\\end{tabular}\n",
       "%\\caption{Logit Regression Results}\n",
       "\\end{center}"
      ],
      "text/plain": [
       "<class 'statsmodels.iolib.summary.Summary'>\n",
       "\"\"\"\n",
       "                           Logit Regression Results                           \n",
       "==============================================================================\n",
       "Dep. Variable:                    LFP   No. Observations:                  753\n",
       "Model:                          Logit   Df Residuals:                      746\n",
       "Method:                           MLE   Df Model:                            6\n",
       "Date:                Sun, 19 Jan 2025   Pseudo R-squ.:                 0.07613\n",
       "Time:                        20:02:22   Log-Likelihood:                -475.67\n",
       "converged:                       True   LL-Null:                       -514.87\n",
       "Covariance Type:            nonrobust   LLR p-value:                 7.648e-15\n",
       "==================================================================================\n",
       "                     coef    std err          z      P>|z|      [0.025      0.975]\n",
       "----------------------------------------------------------------------------------\n",
       "Intercept         -4.3882      1.572     -2.792      0.005      -7.469      -1.308\n",
       "WE                 0.2028      0.040      5.122      0.000       0.125       0.280\n",
       "KL6               -1.0154      0.165     -6.169      0.000      -1.338      -0.693\n",
       "K618               0.0509      0.059      0.856      0.392      -0.066       0.167\n",
       "CIT               -0.2753      0.173     -1.595      0.111      -0.614       0.063\n",
       "UN                -0.0287      0.025     -1.129      0.259      -0.078       0.021\n",
       "np.log(FAMINC)     0.2808      0.168      1.668      0.095      -0.049       0.611\n",
       "==================================================================================\n",
       "\"\"\""
      ]
     },
     "execution_count": 8,
     "metadata": {},
     "output_type": "execute_result"
    }
   ],
   "source": [
    "mod = smf.logit(formula='LFP~WE+KL6+K618+CIT+UN+np.log(FAMINC)', data=df) # спецификация модели\n",
    "# Напоминаю копировать формулу) Тут один из ответов не правильный как раз из-за этого\n",
    "res = mod.fit() # подгонка модели\n",
    "res.summary() # отчет"
   ]
  },
  {
   "cell_type": "code",
   "execution_count": 9,
   "metadata": {},
   "outputs": [
    {
     "data": {
      "text/plain": [
       "np.float64(1.64)"
      ]
     },
     "execution_count": 9,
     "metadata": {},
     "output_type": "execute_result"
    }
   ],
   "source": [
    "# Критическое значение\n",
    "sign_level = 0.1\n",
    "norm.ppf(q=1-sign_level/2).round(2)\n",
    "# Этот ответ пишем в поле \"Критическое значение\""
   ]
  },
  {
   "cell_type": "code",
   "execution_count": 10,
   "metadata": {},
   "outputs": [
    {
     "data": {
      "text/plain": [
       "Intercept        -2.79\n",
       "WE                5.12\n",
       "KL6              -6.17\n",
       "K618              0.86\n",
       "CIT              -1.60\n",
       "UN               -1.13\n",
       "np.log(FAMINC)    1.67\n",
       "dtype: float64"
      ]
     },
     "execution_count": 10,
     "metadata": {},
     "output_type": "execute_result"
    }
   ],
   "source": [
    "# тестовые z-статистики для каждого коэффциента с округленим\n",
    "res.tvalues.round(2)\n",
    "\n",
    "# Первый комментарий - это комментарий Артамонова из файла.\n",
    "# Почему-то он называет это в своем файле z-статистика (гойда)\n",
    "# Хотя это та самая тестовая статистика, которая нам нужна.\n",
    "\n",
    "# Чтобы получить ответ смотрим на тот коэффициент, который указан по условию.\n",
    "# В нашем случае \"WE\". Затем пишем это значение в поле \"Тестовая статистика\"\n",
    "# Затем сравниваем значение: если коэффициент больше критического значения, то он\n",
    "# значим, если меньше, то не значим"
   ]
  },
  {
   "cell_type": "markdown",
   "metadata": {},
   "source": [
    "### Код без комментариев"
   ]
  },
  {
   "cell_type": "code",
   "execution_count": 31,
   "metadata": {},
   "outputs": [
    {
     "name": "stdout",
     "output_type": "stream",
     "text": [
      "Optimization terminated successfully.\n",
      "         Current function value: 0.631705\n",
      "         Iterations 5\n"
     ]
    },
    {
     "data": {
      "text/html": [
       "<table class=\"simpletable\">\n",
       "<caption>Logit Regression Results</caption>\n",
       "<tr>\n",
       "  <th>Dep. Variable:</th>          <td>LFP</td>       <th>  No. Observations:  </th>  <td>   753</td>  \n",
       "</tr>\n",
       "<tr>\n",
       "  <th>Model:</th>                 <td>Logit</td>      <th>  Df Residuals:      </th>  <td>   746</td>  \n",
       "</tr>\n",
       "<tr>\n",
       "  <th>Method:</th>                 <td>MLE</td>       <th>  Df Model:          </th>  <td>     6</td>  \n",
       "</tr>\n",
       "<tr>\n",
       "  <th>Date:</th>            <td>Sun, 19 Jan 2025</td> <th>  Pseudo R-squ.:     </th>  <td>0.07613</td> \n",
       "</tr>\n",
       "<tr>\n",
       "  <th>Time:</th>                <td>17:15:01</td>     <th>  Log-Likelihood:    </th> <td> -475.67</td> \n",
       "</tr>\n",
       "<tr>\n",
       "  <th>converged:</th>             <td>True</td>       <th>  LL-Null:           </th> <td> -514.87</td> \n",
       "</tr>\n",
       "<tr>\n",
       "  <th>Covariance Type:</th>     <td>nonrobust</td>    <th>  LLR p-value:       </th> <td>7.648e-15</td>\n",
       "</tr>\n",
       "</table>\n",
       "<table class=\"simpletable\">\n",
       "<tr>\n",
       "         <td></td>           <th>coef</th>     <th>std err</th>      <th>z</th>      <th>P>|z|</th>  <th>[0.025</th>    <th>0.975]</th>  \n",
       "</tr>\n",
       "<tr>\n",
       "  <th>Intercept</th>      <td>   -4.3882</td> <td>    1.572</td> <td>   -2.792</td> <td> 0.005</td> <td>   -7.469</td> <td>   -1.308</td>\n",
       "</tr>\n",
       "<tr>\n",
       "  <th>WE</th>             <td>    0.2028</td> <td>    0.040</td> <td>    5.122</td> <td> 0.000</td> <td>    0.125</td> <td>    0.280</td>\n",
       "</tr>\n",
       "<tr>\n",
       "  <th>KL6</th>            <td>   -1.0154</td> <td>    0.165</td> <td>   -6.169</td> <td> 0.000</td> <td>   -1.338</td> <td>   -0.693</td>\n",
       "</tr>\n",
       "<tr>\n",
       "  <th>K618</th>           <td>    0.0509</td> <td>    0.059</td> <td>    0.856</td> <td> 0.392</td> <td>   -0.066</td> <td>    0.167</td>\n",
       "</tr>\n",
       "<tr>\n",
       "  <th>CIT</th>            <td>   -0.2753</td> <td>    0.173</td> <td>   -1.595</td> <td> 0.111</td> <td>   -0.614</td> <td>    0.063</td>\n",
       "</tr>\n",
       "<tr>\n",
       "  <th>UN</th>             <td>   -0.0287</td> <td>    0.025</td> <td>   -1.129</td> <td> 0.259</td> <td>   -0.078</td> <td>    0.021</td>\n",
       "</tr>\n",
       "<tr>\n",
       "  <th>np.log(FAMINC)</th> <td>    0.2808</td> <td>    0.168</td> <td>    1.668</td> <td> 0.095</td> <td>   -0.049</td> <td>    0.611</td>\n",
       "</tr>\n",
       "</table>"
      ],
      "text/latex": [
       "\\begin{center}\n",
       "\\begin{tabular}{lclc}\n",
       "\\toprule\n",
       "\\textbf{Dep. Variable:}   &       LFP        & \\textbf{  No. Observations:  } &      753    \\\\\n",
       "\\textbf{Model:}           &      Logit       & \\textbf{  Df Residuals:      } &      746    \\\\\n",
       "\\textbf{Method:}          &       MLE        & \\textbf{  Df Model:          } &        6    \\\\\n",
       "\\textbf{Date:}            & Sun, 19 Jan 2025 & \\textbf{  Pseudo R-squ.:     } &  0.07613    \\\\\n",
       "\\textbf{Time:}            &     17:15:01     & \\textbf{  Log-Likelihood:    } &   -475.67   \\\\\n",
       "\\textbf{converged:}       &       True       & \\textbf{  LL-Null:           } &   -514.87   \\\\\n",
       "\\textbf{Covariance Type:} &    nonrobust     & \\textbf{  LLR p-value:       } & 7.648e-15   \\\\\n",
       "\\bottomrule\n",
       "\\end{tabular}\n",
       "\\begin{tabular}{lcccccc}\n",
       "                        & \\textbf{coef} & \\textbf{std err} & \\textbf{z} & \\textbf{P$> |$z$|$} & \\textbf{[0.025} & \\textbf{0.975]}  \\\\\n",
       "\\midrule\n",
       "\\textbf{Intercept}      &      -4.3882  &        1.572     &    -2.792  &         0.005        &       -7.469    &       -1.308     \\\\\n",
       "\\textbf{WE}             &       0.2028  &        0.040     &     5.122  &         0.000        &        0.125    &        0.280     \\\\\n",
       "\\textbf{KL6}            &      -1.0154  &        0.165     &    -6.169  &         0.000        &       -1.338    &       -0.693     \\\\\n",
       "\\textbf{K618}           &       0.0509  &        0.059     &     0.856  &         0.392        &       -0.066    &        0.167     \\\\\n",
       "\\textbf{CIT}            &      -0.2753  &        0.173     &    -1.595  &         0.111        &       -0.614    &        0.063     \\\\\n",
       "\\textbf{UN}             &      -0.0287  &        0.025     &    -1.129  &         0.259        &       -0.078    &        0.021     \\\\\n",
       "\\textbf{np.log(FAMINC)} &       0.2808  &        0.168     &     1.668  &         0.095        &       -0.049    &        0.611     \\\\\n",
       "\\bottomrule\n",
       "\\end{tabular}\n",
       "%\\caption{Logit Regression Results}\n",
       "\\end{center}"
      ],
      "text/plain": [
       "<class 'statsmodels.iolib.summary.Summary'>\n",
       "\"\"\"\n",
       "                           Logit Regression Results                           \n",
       "==============================================================================\n",
       "Dep. Variable:                    LFP   No. Observations:                  753\n",
       "Model:                          Logit   Df Residuals:                      746\n",
       "Method:                           MLE   Df Model:                            6\n",
       "Date:                Sun, 19 Jan 2025   Pseudo R-squ.:                 0.07613\n",
       "Time:                        17:15:01   Log-Likelihood:                -475.67\n",
       "converged:                       True   LL-Null:                       -514.87\n",
       "Covariance Type:            nonrobust   LLR p-value:                 7.648e-15\n",
       "==================================================================================\n",
       "                     coef    std err          z      P>|z|      [0.025      0.975]\n",
       "----------------------------------------------------------------------------------\n",
       "Intercept         -4.3882      1.572     -2.792      0.005      -7.469      -1.308\n",
       "WE                 0.2028      0.040      5.122      0.000       0.125       0.280\n",
       "KL6               -1.0154      0.165     -6.169      0.000      -1.338      -0.693\n",
       "K618               0.0509      0.059      0.856      0.392      -0.066       0.167\n",
       "CIT               -0.2753      0.173     -1.595      0.111      -0.614       0.063\n",
       "UN                -0.0287      0.025     -1.129      0.259      -0.078       0.021\n",
       "np.log(FAMINC)     0.2808      0.168      1.668      0.095      -0.049       0.611\n",
       "==================================================================================\n",
       "\"\"\""
      ]
     },
     "execution_count": 31,
     "metadata": {},
     "output_type": "execute_result"
    }
   ],
   "source": [
    "mod = smf.logit(formula='LFP~WE+KL6+K618+CIT+UN+np.log(FAMINC)', data=df)\n",
    "res = mod.fit()\n",
    "res.summary()"
   ]
  },
  {
   "cell_type": "code",
   "execution_count": 32,
   "metadata": {},
   "outputs": [
    {
     "data": {
      "text/plain": [
       "np.float64(1.64)"
      ]
     },
     "execution_count": 32,
     "metadata": {},
     "output_type": "execute_result"
    }
   ],
   "source": [
    "sign_level = 0.1\n",
    "norm.ppf(q=1-sign_level/2).round(2)"
   ]
  },
  {
   "cell_type": "code",
   "execution_count": 33,
   "metadata": {},
   "outputs": [
    {
     "data": {
      "text/plain": [
       "Intercept        -2.79\n",
       "WE                5.12\n",
       "KL6              -6.17\n",
       "K618              0.86\n",
       "CIT              -1.60\n",
       "UN               -1.13\n",
       "np.log(FAMINC)    1.67\n",
       "dtype: float64"
      ]
     },
     "execution_count": 33,
     "metadata": {},
     "output_type": "execute_result"
    }
   ],
   "source": [
    "res.tvalues.round(2)"
   ]
  },
  {
   "cell_type": "markdown",
   "metadata": {},
   "source": [
    "# Девятая задача"
   ]
  },
  {
   "cell_type": "markdown",
   "metadata": {},
   "source": [
    "## Пример задачи:"
   ]
  },
  {
   "cell_type": "markdown",
   "metadata": {},
   "source": [
    "![Pictures/Задача 9.png](<Pictures/Задача 9.png>)"
   ]
  },
  {
   "cell_type": "markdown",
   "metadata": {},
   "source": [
    "## Как решать:"
   ]
  },
  {
   "cell_type": "markdown",
   "metadata": {},
   "source": [
    "В случае если в условии требуют нечто иное от \"Вычислите средний (по выборке) предельный эффект для переменной WE\", например, \"Вычислить предельный эффект\" (в общем, без приписки по выборке) или что-то подобного рода, то рекомендую открыть файл jupyter-notebooks/List24/probit-marginal-values.ipynb\n",
    "В комментариях подробнее объясню, что делать, но в кратце нужно будет заменить одно слово в коде."
   ]
  },
  {
   "cell_type": "markdown",
   "metadata": {},
   "source": [
    "### Код с комментариями:"
   ]
  },
  {
   "cell_type": "code",
   "execution_count": 41,
   "metadata": {},
   "outputs": [
    {
     "name": "stdout",
     "output_type": "stream",
     "text": [
      "Optimization terminated successfully.\n",
      "         Current function value: 0.616871\n",
      "         Iterations 5\n"
     ]
    },
    {
     "data": {
      "text/html": [
       "<div>\n",
       "<style scoped>\n",
       "    .dataframe tbody tr th:only-of-type {\n",
       "        vertical-align: middle;\n",
       "    }\n",
       "\n",
       "    .dataframe tbody tr th {\n",
       "        vertical-align: top;\n",
       "    }\n",
       "\n",
       "    .dataframe thead th {\n",
       "        text-align: right;\n",
       "    }\n",
       "</style>\n",
       "<table border=\"1\" class=\"dataframe\">\n",
       "  <thead>\n",
       "    <tr style=\"text-align: right;\">\n",
       "      <th></th>\n",
       "      <th>dy/dx</th>\n",
       "      <th>Std. Err.</th>\n",
       "      <th>z</th>\n",
       "      <th>Pr(&gt;|z|)</th>\n",
       "      <th>Conf. Int. Low</th>\n",
       "      <th>Cont. Int. Hi.</th>\n",
       "    </tr>\n",
       "  </thead>\n",
       "  <tbody>\n",
       "    <tr>\n",
       "      <th>WA</th>\n",
       "      <td>-0.013079</td>\n",
       "      <td>0.002522</td>\n",
       "      <td>-5.186021</td>\n",
       "      <td>2.148351e-07</td>\n",
       "      <td>-0.018022</td>\n",
       "      <td>-0.008136</td>\n",
       "    </tr>\n",
       "    <tr>\n",
       "      <th>WE</th>\n",
       "      <td>0.043819</td>\n",
       "      <td>0.007494</td>\n",
       "      <td>5.847095</td>\n",
       "      <td>5.002317e-09</td>\n",
       "      <td>0.029131</td>\n",
       "      <td>0.058507</td>\n",
       "    </tr>\n",
       "    <tr>\n",
       "      <th>KL6</th>\n",
       "      <td>-0.310880</td>\n",
       "      <td>0.034608</td>\n",
       "      <td>-8.982960</td>\n",
       "      <td>2.635784e-19</td>\n",
       "      <td>-0.378710</td>\n",
       "      <td>-0.243050</td>\n",
       "    </tr>\n",
       "    <tr>\n",
       "      <th>K618</th>\n",
       "      <td>-0.018605</td>\n",
       "      <td>0.014115</td>\n",
       "      <td>-1.318145</td>\n",
       "      <td>1.874552e-01</td>\n",
       "      <td>-0.046269</td>\n",
       "      <td>0.009059</td>\n",
       "    </tr>\n",
       "    <tr>\n",
       "      <th>CIT</th>\n",
       "      <td>-0.026094</td>\n",
       "      <td>0.036566</td>\n",
       "      <td>-0.713618</td>\n",
       "      <td>4.754634e-01</td>\n",
       "      <td>-0.097763</td>\n",
       "      <td>0.045574</td>\n",
       "    </tr>\n",
       "    <tr>\n",
       "      <th>UN</th>\n",
       "      <td>-0.003914</td>\n",
       "      <td>0.005513</td>\n",
       "      <td>-0.709971</td>\n",
       "      <td>4.777221e-01</td>\n",
       "      <td>-0.014719</td>\n",
       "      <td>0.006891</td>\n",
       "    </tr>\n",
       "  </tbody>\n",
       "</table>\n",
       "</div>"
      ],
      "text/plain": [
       "         dy/dx  Std. Err.         z      Pr(>|z|)  Conf. Int. Low  \\\n",
       "WA   -0.013079   0.002522 -5.186021  2.148351e-07       -0.018022   \n",
       "WE    0.043819   0.007494  5.847095  5.002317e-09        0.029131   \n",
       "KL6  -0.310880   0.034608 -8.982960  2.635784e-19       -0.378710   \n",
       "K618 -0.018605   0.014115 -1.318145  1.874552e-01       -0.046269   \n",
       "CIT  -0.026094   0.036566 -0.713618  4.754634e-01       -0.097763   \n",
       "UN   -0.003914   0.005513 -0.709971  4.777221e-01       -0.014719   \n",
       "\n",
       "      Cont. Int. Hi.  \n",
       "WA         -0.008136  \n",
       "WE          0.058507  \n",
       "KL6        -0.243050  \n",
       "K618        0.009059  \n",
       "CIT         0.045574  \n",
       "UN          0.006891  "
      ]
     },
     "execution_count": 41,
     "metadata": {},
     "output_type": "execute_result"
    }
   ],
   "source": [
    "mod = smf.probit(formula='LFP~WA+WE+KL6+K618+CIT+UN', data=df)\n",
    "res = mod.fit()\n",
    "\n",
    "margeff_res = res.get_margeff(at='overall') # Вот в случае если в условию требуют что-то отличное,\n",
    "# нужно будте заменить \"overall\" на \"mean\"\n",
    "margeff_res.summary_frame()\n",
    "\n",
    "# После исполнения кода у нас появиться табличка, в которой надо просто выбрать значение признака,\n",
    "# указанного в условии (в нашем случае WE), в колонке dy/dx (В нашем случае получится 0.043819)\n",
    "# Как округлять здесь я не знаю... Но я думаю, что все умеют это делать и без компьютеров\n",
    "# Ах да, это число и будет нашим ответом"
   ]
  },
  {
   "cell_type": "markdown",
   "metadata": {},
   "source": [
    "### Код без комментариев:"
   ]
  },
  {
   "cell_type": "code",
   "execution_count": null,
   "metadata": {},
   "outputs": [],
   "source": [
    "mod = smf.probit(formula='LFP~WA+WE+KL6+K618+CIT+UN', data=df)\n",
    "res = mod.fit()\n",
    "\n",
    "margeff_res = res.get_margeff(at='overall') \n",
    "margeff_res.summary_frame()"
   ]
  },
  {
   "cell_type": "markdown",
   "metadata": {},
   "source": [
    " # Десятая задача"
   ]
  },
  {
   "cell_type": "markdown",
   "metadata": {},
   "source": [
    "## Пример задачи:"
   ]
  },
  {
   "cell_type": "markdown",
   "metadata": {},
   "source": [
    "![Pictures/Задача 10.png](<Pictures/Задача 10.png>)"
   ]
  },
  {
   "cell_type": "markdown",
   "metadata": {},
   "source": [
    "## Как решать:"
   ]
  },
  {
   "cell_type": "markdown",
   "metadata": {},
   "source": [
    "Эта задача очень похожа на третью, так что считай уже решали."
   ]
  },
  {
   "cell_type": "markdown",
   "metadata": {},
   "source": [
    "### Код с комментариями"
   ]
  },
  {
   "cell_type": "code",
   "execution_count": 29,
   "metadata": {},
   "outputs": [
    {
     "name": "stdout",
     "output_type": "stream",
     "text": [
      "Optimization terminated successfully.\n",
      "         Current function value: 0.616734\n",
      "         Iterations 5\n"
     ]
    },
    {
     "data": {
      "text/plain": [
       "0    0.464\n",
       "dtype: float64"
      ]
     },
     "execution_count": 29,
     "metadata": {},
     "output_type": "execute_result"
    }
   ],
   "source": [
    "mod = smf.logit(formula='LFP~WA+WE+KL6+K618+CIT+UN', data=df) # спецификация модели\n",
    "res = mod.fit() # подгонка модели\n",
    "\n",
    "# Создадим датафрейм с новыми данными регрессоров для прогноза\n",
    "new_data = pd.DataFrame({'WA':[39],  \n",
    "                         'WE': [14], \n",
    "                         'KL6': [1],\n",
    "                         'K618': [1], \n",
    "                         'CIT': [1],\n",
    "                         'UN': [2],})\n",
    "# Прогноз для LPM с округлением до 3-х десятичных знаков\n",
    "res.predict(exog=new_data, transform=True).round(3)"
   ]
  },
  {
   "cell_type": "markdown",
   "metadata": {},
   "source": [
    "### Код без комментариев"
   ]
  },
  {
   "cell_type": "code",
   "execution_count": 30,
   "metadata": {},
   "outputs": [
    {
     "name": "stdout",
     "output_type": "stream",
     "text": [
      "Optimization terminated successfully.\n",
      "         Current function value: 0.616734\n",
      "         Iterations 5\n"
     ]
    },
    {
     "data": {
      "text/plain": [
       "0    0.464\n",
       "dtype: float64"
      ]
     },
     "execution_count": 30,
     "metadata": {},
     "output_type": "execute_result"
    }
   ],
   "source": [
    "mod = smf.logit(formula='LFP~WA+WE+KL6+K618+CIT+UN', data=df)\n",
    "res = mod.fit()\n",
    "\n",
    "new_data = pd.DataFrame({'WA':[39],  \n",
    "                         'WE': [14], \n",
    "                         'KL6': [1],\n",
    "                         'K618': [1], \n",
    "                         'CIT': [1],\n",
    "                         'UN': [2],})\n",
    "\n",
    "res.predict(exog=new_data, transform=True).round(3)"
   ]
  }
 ],
 "metadata": {
  "kernelspec": {
   "display_name": "base",
   "language": "python",
   "name": "python3"
  },
  "language_info": {
   "codemirror_mode": {
    "name": "ipython",
    "version": 3
   },
   "file_extension": ".py",
   "mimetype": "text/x-python",
   "name": "python",
   "nbconvert_exporter": "python",
   "pygments_lexer": "ipython3",
   "version": "3.12.2"
  }
 },
 "nbformat": 4,
 "nbformat_minor": 2
}
